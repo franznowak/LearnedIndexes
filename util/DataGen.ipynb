{
 "cells": [
  {
   "cell_type": "markdown",
   "metadata": {},
   "source": [
    "# Data Generator (20/11/2018)"
   ]
  },
  {
   "cell_type": "markdown",
   "metadata": {},
   "source": [
    "This notebook is to test data generation for the synthetic datasets.\n",
    "We need a suitable random number generator. It is important that it does not show any patterns as the Neural Net might pick up on them. For this reason, a RNG with a large period is needed."
   ]
  },
  {
   "cell_type": "markdown",
   "metadata": {},
   "source": [
    "## Comparing RNGs "
   ]
  },
  {
   "cell_type": "markdown",
   "metadata": {},
   "source": [
    "| Linear Congruence Generator  (Java)   | Mersenne Twister      (Python)      |\n",
    "|---------------------------------------|-------------------------------------|\n",
    "|   __period: 2^48__                    | __period: 2^19937 - 1__             |\n",
    "|   little state                        | more state                          |\n",
    "|   __very fast__                       | __still quite fast__                |\n",
    "|   passes most tests for randomness    | does not pass some tests            |\n",
    "|   cryptographically secure            | not cryptographically secure        |"
   ]
  },
  {
   "cell_type": "markdown",
   "metadata": {},
   "source": [
    "## Python's RNG: The Mersenne Twister"
   ]
  },
  {
   "cell_type": "markdown",
   "metadata": {},
   "source": [
    "The python random library uses a Mersenne Twister that has a period of 2^19937 - 1, which guarantees for repetition to never be a problem in our simulation.\n",
    "It should be fast enough to generate data on the fly although it is not as fast as a LCG.\n",
    "We do not care about the tests it does not pass as they do not create patterns that hinder us.\n",
    "Cryptographic security is also not a concern. Therefore, we shall be using Python's random library."
   ]
  },
  {
   "cell_type": "code",
   "execution_count": 2,
   "metadata": {},
   "outputs": [],
   "source": [
    "import random, numpy\n",
    "import matplotlib\n",
    "import matplotlib.pyplot as plt"
   ]
  },
  {
   "cell_type": "markdown",
   "metadata": {},
   "source": [
    "Set some constants"
   ]
  },
  {
   "cell_type": "code",
   "execution_count": 3,
   "metadata": {},
   "outputs": [],
   "source": [
    "N_KEYS = 100000 #Number of keys in the index\n",
    "MAX_BLOCK_SIZE = 9 #Maximum size of blocks where the same key appears multiple times\n",
    "N_INTERPOLATIONS = 10 #For calculating a spread of how likely a jump is\n",
    "N_RUNS = 100 #Number of iterations with different seeds\n",
    "N_SAMPLES = 1000 #Number of points where access is sampled"
   ]
  },
  {
   "cell_type": "markdown",
   "metadata": {},
   "source": [
    "Set the seed:"
   ]
  },
  {
   "cell_type": "code",
   "execution_count": 4,
   "metadata": {},
   "outputs": [],
   "source": [
    "random.seed(19937)"
   ]
  },
  {
   "cell_type": "markdown",
   "metadata": {},
   "source": [
    "## Creating the data"
   ]
  },
  {
   "cell_type": "markdown",
   "metadata": {},
   "source": [
    "__Problem:__ We have to control two variables: The size of the bins, and the variation of the keys."
   ]
  },
  {
   "cell_type": "markdown",
   "metadata": {},
   "source": [
    "**Solution:** Only vary the bin size, leave the step size even, corresponding to a standard time series."
   ]
  },
  {
   "cell_type": "markdown",
   "metadata": {},
   "source": [
    "So we want to create lists of numbers that correspond to the bin sizes of the range index. (Later: lists of 4 byte (2 byte?) integers for the block size)"
   ]
  },
  {
   "cell_type": "markdown",
   "metadata": {},
   "source": [
    "The one extreme is an array of blocks of 1, i.e. a collection of unique and evenly ascending numbers."
   ]
  },
  {
   "cell_type": "code",
   "execution_count": 5,
   "metadata": {},
   "outputs": [],
   "source": [
    "min_entropy_list = [1 for p in range(0, N_KEYS)]"
   ]
  },
  {
   "cell_type": "code",
   "execution_count": 6,
   "metadata": {},
   "outputs": [
    {
     "name": "stdout",
     "output_type": "stream",
     "text": [
      "[1, 1, 1, 1, 1, 1, 1, 1, 1, 1, 1, 1, 1, 1, 1, 1, 1, 1, 1, 1, 1, 1, 1, 1, 1, 1, 1, 1, 1, 1, 1, 1, 1, 1, 1, 1, 1, 1, 1, 1, 1, 1, 1, 1, 1, 1, 1, 1, 1, 1, 1, 1, 1, 1, 1, 1, 1, 1, 1, 1, 1, 1, 1, 1, 1, 1, 1, 1, 1, 1, 1, 1, 1, 1, 1, 1, 1, 1, 1, 1, 1, 1, 1, 1, 1, 1, 1, 1, 1, 1, 1, 1, 1, 1, 1, 1, 1, 1, 1, 1, 1, 1, 1, 1, 1, 1, 1, 1, 1, 1, 1, 1, 1, 1, 1, 1, 1, 1, 1, 1, 1, 1, 1, 1, 1, 1, 1, 1, 1, 1, 1, 1, 1, 1, 1, 1, 1, 1, 1, 1, 1, 1, 1, 1, 1, 1, 1, 1, 1, 1, 1, 1, 1, 1, 1, 1, 1, 1, 1, 1, 1, 1, 1, 1, 1, 1, 1, 1, 1, 1, 1, 1, 1, 1, 1, 1, 1, 1, 1, 1, 1, 1, 1, 1, 1, 1, 1, 1, 1, 1, 1, 1, 1, 1, 1, 1, 1, 1, 1, 1, 1, 1, 1, 1, 1, 1, 1, 1, 1, 1, 1, 1, 1, 1, 1, 1, 1, 1, 1, 1, 1, 1, 1, 1, 1, 1, 1, 1, 1, 1, 1, 1, 1, 1, 1, 1, 1, 1, 1, 1, 1, 1, 1, 1, 1, 1, 1, 1, 1, 1, 1, 1, 1, 1, 1, 1, 1, 1, 1, 1, 1, 1, 1, 1, 1, 1, 1, 1, 1, 1, 1, 1, 1, 1, 1, 1, 1, 1, 1, 1, 1, 1, 1, 1, 1, 1, 1, 1, 1, 1, 1, 1, 1, 1, 1, 1, 1, 1, 1, 1, 1, 1, 1, 1, 1, 1, 1, 1, 1, 1, 1, 1, 1, 1, 1, 1, 1, 1, 1, 1, 1, 1, 1, 1, 1, 1, 1, 1, 1, 1, 1, 1, 1, 1, 1, 1, 1, 1, 1, 1, 1, 1, 1, 1, 1, 1, 1, 1, 1, 1, 1, 1, 1, 1, 1, 1, 1, 1, 1, 1, 1, 1, 1, 1, 1, 1, 1, 1, 1, 1, 1, 1, 1, 1, 1, 1, 1, 1, 1, 1, 1, 1, 1, 1, 1, 1, 1, 1, 1, 1, 1, 1, 1, 1, 1, 1, 1, 1, 1, 1, 1, 1, 1, 1, 1, 1, 1, 1, 1, 1, 1, 1, 1, 1, 1, 1, 1, 1, 1, 1, 1, 1, 1, 1, 1, 1, 1, 1, 1, 1, 1, 1, 1, 1, 1, 1, 1, 1, 1, 1, 1, 1, 1, 1, 1, 1, 1, 1, 1, 1, 1, 1, 1, 1, 1, 1, 1, 1, 1, 1, 1, 1, 1, 1, 1, 1, 1, 1, 1, 1, 1, 1, 1, 1, 1, 1, 1, 1, 1, 1, 1, 1, 1, 1, 1, 1, 1, 1, 1, 1, 1, 1, 1, 1, 1, 1, 1, 1, 1, 1] ...\n"
     ]
    }
   ],
   "source": [
    "print(str(min_entropy_list[0:500]) + \" ...\")"
   ]
  },
  {
   "cell_type": "markdown",
   "metadata": {},
   "source": [
    "The other extreme is completely random block size in a specified range:"
   ]
  },
  {
   "cell_type": "code",
   "execution_count": 7,
   "metadata": {},
   "outputs": [],
   "source": [
    "max_entropy_list = [random.randrange(MAX_BLOCK_SIZE)+1 for p in range(0, N_KEYS)]"
   ]
  },
  {
   "cell_type": "code",
   "execution_count": 8,
   "metadata": {},
   "outputs": [
    {
     "name": "stdout",
     "output_type": "stream",
     "text": [
      "[8, 3, 2, 2, 9, 3, 5, 4, 2, 3, 9, 5, 3, 6, 9, 7, 9, 7, 8, 6, 2, 3, 2, 5, 3, 3, 8, 3, 9, 2, 8, 7, 3, 7, 9, 3, 5, 9, 5, 8, 9, 3, 8, 8, 1, 8, 3, 2, 5, 3, 1, 4, 9, 5, 9, 5, 8, 4, 1, 2, 7, 9, 9, 1, 3, 5, 8, 6, 4, 1, 2, 8, 3, 8, 2, 1, 6, 9, 5, 4, 9, 4, 3, 6, 7, 1, 2, 4, 2, 7, 2, 6, 3, 7, 7, 5, 4, 1, 6, 2, 8, 5, 8, 9, 2, 2, 1, 4, 3, 5, 3, 2, 4, 9, 3, 9, 3, 1, 4, 3, 6, 4, 9, 9, 6, 7, 2, 8, 1, 4, 1, 7, 3, 4, 7, 8, 5, 1, 8, 8, 6, 8, 3, 8, 8, 9, 2, 1, 8, 6, 4, 3, 8, 6, 9, 5, 7, 8, 5, 8, 7, 2, 7, 3, 6, 6, 7, 7, 2, 9, 7, 3, 3, 8, 2, 8, 1, 2, 5, 4, 9, 6, 9, 5, 3, 6, 2, 7, 1, 9, 5, 9, 8, 8, 7, 6, 1, 8, 1, 5, 8, 9, 3, 9, 8, 5, 5, 3, 6, 6, 8, 3, 2, 3, 6, 6, 9, 1, 3, 9, 9, 6, 4, 4, 5, 9, 3, 8, 5, 1, 3, 2, 9, 3, 1, 4, 8, 4, 1, 7, 1, 7, 2, 9, 3, 3, 7, 6, 5, 1, 6, 7, 5, 5, 7, 6, 6, 4, 8, 8, 1, 4, 9, 8, 3, 7, 1, 3, 4, 6, 5, 6, 2, 8, 4, 7, 4, 7, 3, 6, 5, 7, 9, 3, 6, 9, 4, 9, 2, 7, 1, 4, 8, 6, 6, 3, 5, 8, 8, 7, 1, 7, 5, 1, 2, 7, 9, 3, 7, 8, 3, 4, 9, 5, 3, 9, 8, 1, 4, 1, 3, 8, 5, 5, 2, 3, 6, 2, 7, 4, 7, 8, 9, 6, 4, 4, 6, 9, 7, 7, 3, 1, 1, 7, 7, 6, 5, 6, 7, 1, 5, 8, 4, 8, 2, 9, 2, 5, 1, 5, 4, 1, 5, 7, 8, 4, 8, 5, 4, 6, 9, 1, 8, 5, 8, 7, 9, 5, 7, 2, 4, 6, 8, 8, 4, 1, 2, 3, 7, 2, 3, 8, 8, 7, 9, 3, 2, 3, 5, 5, 9, 8, 1, 4, 8, 3, 4, 4, 8, 6, 6, 2, 8, 5, 9, 1, 6, 3, 7, 9, 9, 5, 6, 1, 9, 7, 9, 6, 8, 5, 3, 4, 8, 9, 5, 5, 9, 7, 4, 1, 9, 3, 7, 6, 6, 7, 8, 2, 2, 3, 7, 4, 9, 8, 1, 9, 2, 7, 1, 1, 6, 6, 6, 2, 4, 1, 1, 2, 9, 6, 1, 4, 5, 9, 2, 1, 7, 9, 2, 9, 4, 9, 6, 4, 3, 3, 6, 3, 3, 1, 9, 5, 1, 2, 9, 7, 2, 9, 5, 9] ...\n"
     ]
    }
   ],
   "source": [
    "print(str(max_entropy_list[0:500]) + \" ...\")"
   ]
  },
  {
   "cell_type": "markdown",
   "metadata": {},
   "source": [
    "### Now, find a generalised way to create these."
   ]
  },
  {
   "cell_type": "markdown",
   "metadata": {},
   "source": [
    "__Note:__  Do we want data of the same size or the same number of keys? If the former, we need to make sure the sum of the array entries is (roughly) equal. For now, just fix the number of keys. Later, could also just fill up the remaining space with 0s."
   ]
  },
  {
   "cell_type": "markdown",
   "metadata": {},
   "source": [
    "__Note:__ There are two distributions needed here for differentiating the different interpolations, one for the occurrence of different size buckets, and one for the actual size of the buckets."
   ]
  },
  {
   "cell_type": "code",
   "execution_count": 9,
   "metadata": {},
   "outputs": [],
   "source": [
    "def get_bucket_array(size, ratio):\n",
    "    bucket_array=[]\n",
    "    for _ in range(0, size):\n",
    "        if random.uniform(0,1)<ratio:\n",
    "            bucket_array.append(random.randrange(MAX_BLOCK_SIZE)+1)\n",
    "        else:\n",
    "            bucket_array.append(1)\n",
    "    return bucket_array"
   ]
  },
  {
   "cell_type": "code",
   "execution_count": 10,
   "metadata": {},
   "outputs": [],
   "source": [
    "blocks = []\n",
    "for i in range(N_RUNS):\n",
    "    random.seed(i)\n",
    "    blocks.append([get_bucket_array(N_KEYS, 1/N_INTERPOLATIONS * x) for x in range(0, N_INTERPOLATIONS)])"
   ]
  },
  {
   "cell_type": "markdown",
   "metadata": {},
   "source": [
    "(__Edit 29/11/2018__: added the mean of the distributions)"
   ]
  },
  {
   "cell_type": "code",
   "execution_count": 63,
   "metadata": {},
   "outputs": [
    {
     "name": "stdout",
     "output_type": "stream",
     "text": [
      "block 0: [1, 1, 1, 1, 1, 1, 1, 1, 1, 1, 1, 1, 1, 1, 1, 1, 1, 1, 1, 1, 1, 1, 1, 1, 1, 1, 1, 1, 1, 1] ... (avg: 1.0)\n",
      "\n",
      "block 1: [1, 1, 1, 1, 1, 1, 1, 1, 1, 1, 1, 1, 1, 1, 1, 1, 1, 1, 1, 1, 1, 1, 1, 1, 1, 1, 1, 1, 1, 1] ... (avg: 1.40309)\n",
      "\n",
      "block 2: [1, 1, 1, 1, 1, 1, 1, 1, 1, 1, 2, 4, 1, 9, 1, 1, 6, 1, 1, 1, 1, 1, 1, 1, 1, 1, 1, 1, 1, 1] ... (avg: 1.80267)\n",
      "\n",
      "block 3: [4, 1, 2, 7, 1, 1, 1, 1, 1, 1, 1, 1, 5, 1, 7, 4, 1, 1, 6, 1, 1, 6, 1, 3, 1, 8, 1, 1, 1, 1] ... (avg: 2.20728)\n",
      "\n",
      "block 4: [8, 2, 1, 1, 1, 1, 3, 1, 1, 5, 1, 1, 5, 5, 1, 1, 3, 1, 1, 1, 7, 1, 1, 6, 1, 1, 1, 1, 1, 1] ... (avg: 2.60349)\n",
      "\n",
      "block 5: [9, 1, 5, 1, 8, 1, 1, 1, 3, 5, 1, 8, 9, 7, 1, 1, 1, 1, 7, 5, 1, 6, 3, 2, 7, 1, 7, 1, 2, 6] ... (avg: 2.99755)\n",
      "\n",
      "block 6: [1, 7, 8, 1, 1, 8, 1, 1, 3, 8, 1, 4, 1, 1, 6, 1, 2, 7, 2, 8, 1, 1, 7, 1, 3, 3, 1, 1, 1, 6] ... (avg: 3.40644)\n",
      "\n",
      "block 7: [4, 2, 8, 7, 1, 3, 1, 8, 1, 1, 7, 1, 1, 9, 1, 4, 1, 7, 2, 1, 3, 6, 9, 1, 3, 5, 5, 2, 6, 7] ... (avg: 3.82657)\n",
      "\n",
      "block 8: [3, 5, 3, 7, 5, 2, 3, 3, 1, 1, 1, 6, 7, 5, 4, 1, 6, 6, 8, 2, 9, 8, 9, 8, 9, 1, 1, 5, 1, 4] ... (avg: 4.19364)\n",
      "\n",
      "block 9: [3, 8, 5, 5, 1, 1, 4, 2, 2, 4, 7, 5, 1, 5, 5, 9, 6, 4, 1, 2, 6, 8, 2, 9, 5, 8, 4, 6, 3, 6] ... (avg: 4.58735)\n",
      "\n"
     ]
    }
   ],
   "source": [
    "for x in range(len(blocks[0])):\n",
    "    print(\"block {}: {} ... (avg: {})\\n\".format(x, blocks[0][x][0:30],numpy.mean(blocks[0][x])))"
   ]
  },
  {
   "cell_type": "markdown",
   "metadata": {},
   "source": [
    "(__Edit 29/11/2018__:) Let us plot the CDFs:"
   ]
  },
  {
   "cell_type": "code",
   "execution_count": 56,
   "metadata": {},
   "outputs": [
    {
     "data": {
      "image/png": "[encoded data removed]",
      "text/plain": [
       "<Figure size 432x288 with 1 Axes>"
      ]
     },
     "metadata": {
      "needs_background": "light"
     },
     "output_type": "display_data"
    }
   ],
   "source": [
    "# Data for plotting\n",
    "x = numpy.arange(0, N_KEYS, 1)\n",
    "y = numpy.add.accumulate(blocks[0][3])\n",
    "\n",
    "fig, ax = plt.subplots()\n",
    "ax.plot(x, y)\n",
    "\n",
    "ax.set(xlabel='key', ylabel='index',\n",
    "       title='CDF')\n",
    "ax.grid()\n",
    "\n",
    "fig.savefig(\"CDF.png\")\n",
    "plt.show()"
   ]
  },
  {
   "cell_type": "markdown",
   "metadata": {},
   "source": [
    "That looks completely linear! Let us zoom in:"
   ]
  },
  {
   "cell_type": "code",
   "execution_count": 57,
   "metadata": {},
   "outputs": [
    {
     "data": {
      "image/png": "[encoded data removed]",
      "text/plain": [
       "<Figure size 432x288 with 1 Axes>"
      ]
     },
     "metadata": {
      "needs_background": "light"
     },
     "output_type": "display_data"
    }
   ],
   "source": [
    "# Data for plotting\n",
    "x = numpy.arange(0, 50, 1)\n",
    "y = numpy.add.accumulate(blocks[0][3][1000:1050])\n",
    "\n",
    "fig, ax = plt.subplots()\n",
    "ax.plot(x, y)\n",
    "\n",
    "ax.set(xlabel='key', ylabel='index',\n",
    "       title='CDF')\n",
    "ax.grid()\n",
    "\n",
    "fig.savefig(\"CDF_ZOOM.png\")\n",
    "plt.show()"
   ]
  },
  {
   "cell_type": "markdown",
   "metadata": {},
   "source": [
    "# Comparing Access Speeds between Array and B-Tree (29/11/2018)"
   ]
  },
  {
   "cell_type": "markdown",
   "metadata": {},
   "source": [
    "## Create \"real\" data from blocks"
   ]
  },
  {
   "cell_type": "code",
   "execution_count": 1,
   "metadata": {},
   "outputs": [
    {
     "ename": "SyntaxError",
     "evalue": "invalid syntax (<ipython-input-1-e4c7460792dd>, line 7)",
     "output_type": "error",
     "traceback": [
      "\u001b[0;36m  File \u001b[0;32m\"<ipython-input-1-e4c7460792dd>\"\u001b[0;36m, line \u001b[0;32m7\u001b[0m\n\u001b[0;31m    for k in range(len(blocks[x][i][j]):\u001b[0m\n\u001b[0m                                       ^\u001b[0m\n\u001b[0;31mSyntaxError\u001b[0m\u001b[0;31m:\u001b[0m invalid syntax\n"
     ]
    }
   ],
   "source": [
    "data = []\n",
    "for x in range(N_RUNS):\n",
    "    data.append([])\n",
    "    for i in range(len(blocks[x])):\n",
    "        data[x].append([])\n",
    "        for j in range(len(blocks[x][i])):\n",
    "            for k in range(blocks[x][i][j]:\n",
    "                data[x][i].append(j)\n",
    "                data[x][i].append(0)"
   ]
  },
  {
   "cell_type": "markdown",
   "metadata": {},
   "source": [
    "The data are now arranged as __\"key, value, key, value ...\"__ in arrays:"
   ]
  },
  {
   "cell_type": "code",
   "execution_count": 65,
   "metadata": {},
   "outputs": [
    {
     "name": "stdout",
     "output_type": "stream",
     "text": [
      "[0, 0, 1, 0, 2, 0, 3, 0, 4, 0, 5, 0, 6, 0, 7, 0, 8, 0, 9, 0, 10, 0, 11, 0, 12, 0, 13, 0, 14, 0, 15, 0, 16, 0, 17, 0, 18, 0, 19, 0, 20, 0, 21, 0, 22, 0, 23, 0, 24, 0, 25, 0, 26, 0, 27, 0, 28, 0, 29, 0, 30, 0, 31, 0, 32, 0, 33, 0, 34, 0, 35, 0, 36, 0, 37, 0, 38, 0, 39, 0, 40, 0, 41, 0, 42, 0, 43, 0, 44, 0, 45, 0, 46, 0, 47, 0, 48, 0, 49, 0]\n"
     ]
    }
   ],
   "source": [
    "print(\"{}\".format(data[0][0][0:100]))"
   ]
  },
  {
   "cell_type": "markdown",
   "metadata": {},
   "source": [
    "However, for better readability, here they are arranged as tuples:"
   ]
  },
  {
   "cell_type": "code",
   "execution_count": 67,
   "metadata": {
    "scrolled": true
   },
   "outputs": [
    {
     "name": "stdout",
     "output_type": "stream",
     "text": [
      "data 0: [(0, 0), (1, 0), (2, 0), (3, 0), (4, 0), (5, 0), (6, 0), (7, 0), (8, 0), (9, 0), (10, 0), (11, 0), (12, 0), (13, 0), (14, 0), (15, 0), (16, 0), (17, 0), (18, 0), (19, 0), (20, 0), (21, 0), (22, 0), (23, 0), (24, 0), (25, 0)] \n",
      "\n",
      "data 1: [(0, 0), (1, 0), (2, 0), (3, 0), (4, 0), (5, 0), (6, 0), (7, 0), (8, 0), (9, 0), (10, 0), (11, 0), (12, 0), (13, 0), (14, 0), (15, 0), (16, 0), (17, 0), (18, 0), (19, 0), (20, 0), (21, 0), (22, 0), (23, 0), (24, 0), (25, 0)] \n",
      "\n",
      "data 2: [(0, 0), (1, 0), (2, 0), (3, 0), (4, 0), (5, 0), (6, 0), (7, 0), (8, 0), (9, 0), (10, 0), (10, 0), (11, 0), (11, 0), (11, 0), (11, 0), (12, 0), (13, 0), (13, 0), (13, 0), (13, 0), (13, 0), (13, 0), (13, 0), (13, 0), (13, 0)] \n",
      "\n",
      "data 3: [(0, 0), (0, 0), (0, 0), (0, 0), (1, 0), (2, 0), (2, 0), (3, 0), (3, 0), (3, 0), (3, 0), (3, 0), (3, 0), (3, 0), (4, 0), (5, 0), (6, 0), (7, 0), (8, 0), (9, 0), (10, 0), (11, 0), (12, 0), (12, 0), (12, 0), (12, 0)] \n",
      "\n",
      "data 4: [(0, 0), (0, 0), (0, 0), (0, 0), (0, 0), (0, 0), (0, 0), (0, 0), (1, 0), (1, 0), (2, 0), (3, 0), (4, 0), (5, 0), (6, 0), (6, 0), (6, 0), (7, 0), (8, 0), (9, 0), (9, 0), (9, 0), (9, 0), (9, 0), (10, 0), (11, 0)] \n",
      "\n",
      "data 5: [(0, 0), (0, 0), (0, 0), (0, 0), (0, 0), (0, 0), (0, 0), (0, 0), (0, 0), (1, 0), (2, 0), (2, 0), (2, 0), (2, 0), (2, 0), (3, 0), (4, 0), (4, 0), (4, 0), (4, 0), (4, 0), (4, 0), (4, 0), (4, 0), (5, 0), (6, 0)] \n",
      "\n",
      "data 6: [(0, 0), (1, 0), (1, 0), (1, 0), (1, 0), (1, 0), (1, 0), (1, 0), (2, 0), (2, 0), (2, 0), (2, 0), (2, 0), (2, 0), (2, 0), (2, 0), (3, 0), (4, 0), (5, 0), (5, 0), (5, 0), (5, 0), (5, 0), (5, 0), (5, 0), (5, 0)] \n",
      "\n",
      "data 7: [(0, 0), (0, 0), (0, 0), (0, 0), (1, 0), (1, 0), (2, 0), (2, 0), (2, 0), (2, 0), (2, 0), (2, 0), (2, 0), (2, 0), (3, 0), (3, 0), (3, 0), (3, 0), (3, 0), (3, 0), (3, 0), (4, 0), (5, 0), (5, 0), (5, 0), (6, 0)] \n",
      "\n",
      "data 8: [(0, 0), (0, 0), (0, 0), (1, 0), (1, 0), (1, 0), (1, 0), (1, 0), (2, 0), (2, 0), (2, 0), (3, 0), (3, 0), (3, 0), (3, 0), (3, 0), (3, 0), (3, 0), (4, 0), (4, 0), (4, 0), (4, 0), (4, 0), (5, 0), (5, 0), (6, 0)] \n",
      "\n",
      "data 9: [(0, 0), (0, 0), (0, 0), (1, 0), (1, 0), (1, 0), (1, 0), (1, 0), (1, 0), (1, 0), (1, 0), (2, 0), (2, 0), (2, 0), (2, 0), (2, 0), (3, 0), (3, 0), (3, 0), (3, 0), (3, 0), (4, 0), (5, 0), (6, 0), (6, 0), (6, 0)] \n",
      "\n"
     ]
    }
   ],
   "source": [
    "for x in range(len(data[0])):\n",
    "    print(\"data {}: {} \\n\".format(x,[(data[0][x][i], data[0][x][i+1]) for i in range(0,52,2)]))"
   ]
  },
  {
   "cell_type": "markdown",
   "metadata": {},
   "source": [
    "## Array model"
   ]
  },
  {
   "cell_type": "markdown",
   "metadata": {},
   "source": [
    "Prediction: Scale key by the ration of input size by number of keys. (Divide by two for only the key.)\n",
    "\n",
    "Count: Number of required array reads."
   ]
  },
  {
   "cell_type": "code",
   "execution_count": 19,
   "metadata": {},
   "outputs": [],
   "source": [
    "def array_predict(input_data, key):\n",
    "    count=0\n",
    "    prediction=int((len(input_data)/N_KEYS)*key/2)*2\n",
    "    #print(\"prediction: {}\".format(prediction))\n",
    "    while (input_data[prediction]<key):\n",
    "        prediction+=2\n",
    "        count+=1\n",
    "    while (input_data[prediction]>key):\n",
    "        prediction-=2\n",
    "        count+=1\n",
    "    if(input_data[prediction]!=key):\n",
    "        raise Exception(\"key not found!\")\n",
    "    #print(\"actual: {}\".format(prediction))\n",
    "    return count\n",
    "    "
   ]
  },
  {
   "cell_type": "markdown",
   "metadata": {},
   "source": [
    "Let's make some predictions!"
   ]
  },
  {
   "cell_type": "code",
   "execution_count": 150,
   "metadata": {},
   "outputs": [],
   "source": [
    "predictions = []\n",
    "for i in range(N_RUNS):\n",
    "    predictions.append([])\n",
    "    for j in range(len(data[i])):\n",
    "        predictions[i].append([array_predict(data[i][j],x) for x in range(0,N_KEYS,int(N_KEYS/N_SAMPLES))])"
   ]
  },
  {
   "cell_type": "markdown",
   "metadata": {},
   "source": [
    "This is the distribution of access times in dataset 8:"
   ]
  },
  {
   "cell_type": "code",
   "execution_count": 151,
   "metadata": {},
   "outputs": [
    {
     "data": {
      "image/png": "[encoded data removed]",
      "text/plain": [
       "<Figure size 432x288 with 1 Axes>"
      ]
     },
     "metadata": {
      "needs_background": "light"
     },
     "output_type": "display_data"
    }
   ],
   "source": [
    "x = numpy.arange(0, N_KEYS, int(N_KEYS/N_SAMPLES))\n",
    "y = numpy.average(predictions,axis=0)[6]\n",
    "\n",
    "fig, ax = plt.subplots()\n",
    "ax.plot(x, y)\n",
    "\n",
    "ax.set(xlabel='key', ylabel='number of reads',\n",
    "       title='Access time data 8')\n",
    "ax.grid()\n",
    "\n",
    "fig.savefig(\"test.png\")\n",
    "plt.show()"
   ]
  },
  {
   "cell_type": "markdown",
   "metadata": {},
   "source": [
    "How many reads did they need on average?"
   ]
  },
  {
   "cell_type": "code",
   "execution_count": 130,
   "metadata": {},
   "outputs": [],
   "source": [
    "array_efficiency=[numpy.mean(numpy.average(predictions,axis=0)[i]) for i in range(len(data[0]))]"
   ]
  },
  {
   "cell_type": "code",
   "execution_count": 131,
   "metadata": {},
   "outputs": [
    {
     "name": "stdout",
     "output_type": "stream",
     "text": [
      "data 0: 0.0 \n",
      "\n",
      "data 1: 141.4595 \n",
      "\n",
      "data 2: 192.7538 \n",
      "\n",
      "data 3: 221.9361 \n",
      "\n",
      "data 4: 245.44430000000003 \n",
      "\n",
      "data 5: 258.25140000000005 \n",
      "\n",
      "data 6: 284.43820000000005 \n",
      "\n",
      "data 7: 270.06210000000004 \n",
      "\n",
      "data 8: 274.0066 \n",
      "\n",
      "data 9: 280.3823 \n",
      "\n"
     ]
    }
   ],
   "source": [
    "for x in range(len(data[0])):\n",
    "    print(\"data {}: {} \\n\".format(x, array_efficiency[x]))"
   ]
  },
  {
   "cell_type": "markdown",
   "metadata": {},
   "source": [
    "Or, as a plot:"
   ]
  },
  {
   "cell_type": "code",
   "execution_count": 132,
   "metadata": {},
   "outputs": [
    {
     "data": {
      "image/png": "[encoded data removed]",
      "text/plain": [
       "<Figure size 432x288 with 1 Axes>"
      ]
     },
     "metadata": {
      "needs_background": "light"
     },
     "output_type": "display_data"
    }
   ],
   "source": [
    "x = numpy.arange(0, 10, 1)\n",
    "y = array_efficiency\n",
    "\n",
    "fig, ax = plt.subplots()\n",
    "ax.plot(x, y)\n",
    "\n",
    "ax.set(xlabel='entropy level', ylabel='number of reads',\n",
    "       title='Average search time by entropy')\n",
    "ax.grid()\n",
    "\n",
    "fig.savefig(\"test.png\")\n",
    "plt.show()"
   ]
  },
  {
   "cell_type": "markdown",
   "metadata": {},
   "source": [
    "Hmm, that is odd... I was expecting some sort of correlation between entropy and count..."
   ]
  },
  {
   "cell_type": "markdown",
   "metadata": {},
   "source": [
    "__TO DO__: Test different kinds of local search for for the last step:\n",
    "\n",
    "- Binary Search\n",
    "\n",
    "- Exponential Search\n",
    "\n",
    "- Recursive Predictions"
   ]
  },
  {
   "cell_type": "markdown",
   "metadata": {},
   "source": [
    "## B-Tree Model"
   ]
  },
  {
   "cell_type": "markdown",
   "metadata": {},
   "source": [
    "Let us start by putting all the keys into b-trees:"
   ]
  },
  {
   "cell_type": "code",
   "execution_count": 136,
   "metadata": {},
   "outputs": [],
   "source": [
    "btrees = []\n",
    "for x in range(len(data[0])):\n",
    "    btrees.append(BTreeSet(64))\n",
    "    for i in range(0,len(data[0][x]),2):\n",
    "        btrees[x].add(data[0][x][i])"
   ]
  },
  {
   "cell_type": "code",
   "execution_count": 138,
   "metadata": {},
   "outputs": [
    {
     "data": {
      "text/plain": [
       "73"
      ]
     },
     "execution_count": 138,
     "metadata": {},
     "output_type": "execute_result"
    }
   ],
   "source": [
    "btrees[0].count_reads_to(94321)"
   ]
  },
  {
   "cell_type": "code",
   "execution_count": 140,
   "metadata": {},
   "outputs": [],
   "source": [
    "btree_accesses = []\n",
    "for i in range(len(data[0])):\n",
    "    btree_accesses.append([btrees[i].count_reads_to(x) for x in range(0,N_KEYS,int(N_KEYS/N_SAMPLES))])"
   ]
  },
  {
   "cell_type": "markdown",
   "metadata": {},
   "source": [
    "This is the distribution of access times over our key set in dataset 8:"
   ]
  },
  {
   "cell_type": "code",
   "execution_count": 141,
   "metadata": {},
   "outputs": [
    {
     "data": {
      "image/png": "[encoded data removed]",
      "text/plain": [
       "<Figure size 432x288 with 1 Axes>"
      ]
     },
     "metadata": {
      "needs_background": "light"
     },
     "output_type": "display_data"
    }
   ],
   "source": [
    "x = numpy.arange(0, N_KEYS, int(N_KEYS/100))\n",
    "y = btree_accesses[8]\n",
    "\n",
    "fig, ax = plt.subplots()\n",
    "ax.plot(x, y)\n",
    "\n",
    "ax.set(xlabel='key', ylabel='number of reads',\n",
    "       title='Access time data 8')\n",
    "ax.grid()\n",
    "\n",
    "fig.savefig(\"btreereads.png\")\n",
    "plt.show()"
   ]
  },
  {
   "cell_type": "markdown",
   "metadata": {},
   "source": [
    "This looks roughly as we would expect."
   ]
  },
  {
   "cell_type": "markdown",
   "metadata": {},
   "source": [
    "Now let us find the average times:"
   ]
  },
  {
   "cell_type": "code",
   "execution_count": 142,
   "metadata": {},
   "outputs": [],
   "source": [
    "btree_efficiency=[numpy.mean(btree_accesses[i]) for i in range(N_INTERPOLATIONS)]"
   ]
  },
  {
   "cell_type": "code",
   "execution_count": 143,
   "metadata": {},
   "outputs": [
    {
     "data": {
      "image/png": "[encoded data removed]",
      "text/plain": [
       "<Figure size 432x288 with 1 Axes>"
      ]
     },
     "metadata": {
      "needs_background": "light"
     },
     "output_type": "display_data"
    }
   ],
   "source": [
    "x = numpy.arange(0, 10, 1)\n",
    "y = btree_efficiency\n",
    "\n",
    "fig, ax = plt.subplots()\n",
    "ax.plot(x, y)\n",
    "\n",
    "ax.set(xlabel='entropy level', ylabel='number of reads',\n",
    "       title='Average btree search time by entropy')\n",
    "ax.grid()\n",
    "\n",
    "fig.savefig(\"test.png\")\n",
    "plt.show()"
   ]
  },
  {
   "cell_type": "markdown",
   "metadata": {},
   "source": [
    "## Comparison: Array vs. B-Tree"
   ]
  },
  {
   "cell_type": "markdown",
   "metadata": {},
   "source": [
    "How do the two methods compare?"
   ]
  },
  {
   "cell_type": "code",
   "execution_count": 144,
   "metadata": {},
   "outputs": [
    {
     "data": {
      "image/png": "[encoded data removed]",
      "text/plain": [
       "<Figure size 432x288 with 1 Axes>"
      ]
     },
     "metadata": {
      "needs_background": "light"
     },
     "output_type": "display_data"
    }
   ],
   "source": [
    "%matplotlib inline \n",
    "\n",
    "A = array_efficiency\n",
    "B = btree_efficiency\n",
    "\n",
    "# Plotting functionality starts here\n",
    "plt.plot(A)\n",
    "plt.plot(B)\n",
    "plt.show()"
   ]
  },
  {
   "cell_type": "markdown",
   "metadata": {},
   "source": [
    "This will get closer when the array uses a better local search (like exponential search) instead of linear search."
   ]
  },
  {
   "cell_type": "markdown",
   "metadata": {},
   "source": [
    "# Appendix A: B-Tree Implementation"
   ]
  },
  {
   "cell_type": "markdown",
   "metadata": {},
   "source": [
    "The following is an implementation taken from https://www.nayuki.io/page/btree-set on 29/11/2018 02:00am.\n",
    "I am planning to replace it with my own implementation or alter it to my needs, but for now it should suffice."
   ]
  },
  {
   "cell_type": "code",
   "execution_count": 33,
   "metadata": {},
   "outputs": [],
   "source": [
    "# \n",
    "# B-tree set (Python)\n",
    "# \n",
    "# Copyright (c) 2018 Project Nayuki. (MIT License)\n",
    "# https://www.nayuki.io/page/btree-set\n",
    "# \n",
    "# Permission is hereby granted, free of charge, to any person obtaining a copy of\n",
    "# this software and associated documentation files (the \"Software\"), to deal in\n",
    "# the Software without restriction, including without limitation the rights to\n",
    "# use, copy, modify, merge, publish, distribute, sublicense, and/or sell copies of\n",
    "# the Software, and to permit persons to whom the Software is furnished to do so,\n",
    "# subject to the following conditions:\n",
    "# - The above copyright notice and this permission notice shall be included in\n",
    "#   all copies or substantial portions of the Software.\n",
    "# - The Software is provided \"as is\", without warranty of any kind, express or\n",
    "#   implied, including but not limited to the warranties of merchantability,\n",
    "#   fitness for a particular purpose and noninfringement. In no event shall the\n",
    "#   authors or copyright holders be liable for any claim, damages or other\n",
    "#   liability, whether in an action of contract, tort or otherwise, arising from,\n",
    "#   out of or in connection with the Software or the use or other dealings in the\n",
    "#   Software.\n",
    "# \n",
    "\n",
    "import numbers\n",
    "\n",
    "\n",
    "class BTreeSet(object):\n",
    "\t\n",
    "\t# The degree is the minimum number of children each non-root internal node must have.\n",
    "\tdef __init__(self, degree, coll=None):\n",
    "\t\tif not isinstance(degree, numbers.Integral):\n",
    "\t\t\traise TypeError()\n",
    "\t\tif degree < 2:\n",
    "\t\t\traise ValueError(\"Degree must be at least 2\")\n",
    "\t\tself.minkeys = degree - 1      # At least 1, equal to degree-1\n",
    "\t\tself.maxkeys = degree * 2 - 1  # At least 3, odd number, equal to minkeys*2+1\n",
    "\t\t\n",
    "\t\tself.clear()\n",
    "\t\tif coll is not None:\n",
    "\t\t\tfor obj in coll:\n",
    "\t\t\t\tself.add(obj)\n",
    "\t\n",
    "\t\n",
    "\tdef __len__(self):\n",
    "\t\treturn self.size\n",
    "\t\n",
    "\t\n",
    "\tdef clear(self):\n",
    "\t\tself.root = BTreeSet.Node(self.maxkeys, True)\n",
    "\t\tself.size = 0\n",
    "\t\n",
    "\t\n",
    "\tdef __contains__(self, obj):\n",
    "\t\t# Walk down the tree\n",
    "\t\tnode = self.root\n",
    "\t\twhile True:\n",
    "\t\t\tfound, index = node.search(obj)\n",
    "\t\t\tif found:\n",
    "\t\t\t\treturn True\n",
    "\t\t\telif node.is_leaf():\n",
    "\t\t\t\treturn False\n",
    "\t\t\telse:  # Internal node\n",
    "\t\t\t\tnode = node.children[index]\n",
    "\t\n",
    "\t\n",
    "\tdef add(self, obj):\n",
    "\t\t# Special preprocessing to split root node\n",
    "\t\troot = self.root\n",
    "\t\tif len(root.keys) == self.maxkeys:\n",
    "\t\t\tchild = root\n",
    "\t\t\tself.root = root = BTreeSet.Node(self.maxkeys, False)  # Increment tree height\n",
    "\t\t\troot.children.append(child)\n",
    "\t\t\troot.split_child(self.minkeys, self.maxkeys, 0)\n",
    "\t\t\n",
    "\t\t# Walk down the tree\n",
    "\t\tnode = root\n",
    "\t\twhile True:\n",
    "\t\t\t# Search for index in current node\n",
    "\t\t\tassert len(node.keys) < self.maxkeys\n",
    "\t\t\tassert node is root or len(node.keys) >= self.minkeys\n",
    "\t\t\tfound, index = node.search(obj)\n",
    "\t\t\tif found:\n",
    "\t\t\t\treturn  # Key already exists in tree\n",
    "\t\t\t\n",
    "\t\t\tif node.is_leaf():  # Simple insertion into leaf\n",
    "\t\t\t\tnode.keys.insert(index, obj)\n",
    "\t\t\t\tself.size += 1\n",
    "\t\t\t\treturn  # Successfully added\n",
    "\t\t\t\t\n",
    "\t\t\telse:  # Handle internal node\n",
    "\t\t\t\tchild = node.children[index]\n",
    "\t\t\t\tif len(child.keys) == self.maxkeys:  # Split child node\n",
    "\t\t\t\t\tnode.split_child(self.minkeys, self.maxkeys, index)\n",
    "\t\t\t\t\tif obj == node.keys[index]:\n",
    "\t\t\t\t\t\treturn  # Key already exists in tree\n",
    "\t\t\t\t\telif obj > node.keys[index]:\n",
    "\t\t\t\t\t\tchild = node.children[index + 1]\n",
    "\t\t\t\tnode = child\n",
    "\t\n",
    "\t\n",
    "\tdef remove(self, obj):\n",
    "\t\tif not self._remove(obj):\n",
    "\t\t\traise KeyError(str(obj))\n",
    "\t\n",
    "\tdef discard(self, obj):\n",
    "\t\tself._remove(obj)\n",
    "\t\n",
    "\t\n",
    "\t# Returns whether an object was removed.\n",
    "\tdef _remove(self, obj):\n",
    "\t\t# Walk down the tree\n",
    "\t\troot = self.root\n",
    "\t\tfound, index = root.search(obj)\n",
    "\t\tnode = root\n",
    "\t\twhile True:\n",
    "\t\t\tassert len(node.keys) <= self.maxkeys\n",
    "\t\t\tassert node is root or len(node.keys) > self.minkeys\n",
    "\t\t\tif node.is_leaf():\n",
    "\t\t\t\tif found:  # Simple removal from leaf\n",
    "\t\t\t\t\tnode.remove_key(index)\n",
    "\t\t\t\t\tassert self.size > 0\n",
    "\t\t\t\t\tself.size -= 1\n",
    "\t\t\t\treturn found\n",
    "\t\t\t\n",
    "\t\t\telse:  # Internal node\n",
    "\t\t\t\tif found:  # Key is stored at current node\n",
    "\t\t\t\t\tleft, right = node.children[index : index + 2]\n",
    "\t\t\t\t\tif len(left.keys) > self.minkeys:  # Replace key with predecessor\n",
    "\t\t\t\t\t\tnode.keys[index] = left.remove_max(self.minkeys)\n",
    "\t\t\t\t\t\tassert self.size > 0\n",
    "\t\t\t\t\t\tself.size -= 1\n",
    "\t\t\t\t\t\treturn True\n",
    "\t\t\t\t\telif len(right.keys) > self.minkeys:\n",
    "\t\t\t\t\t\tnode.keys[index] = right.remove_min(self.minkeys)\n",
    "\t\t\t\t\t\tassert self.size > 0\n",
    "\t\t\t\t\t\tself.size -= 1\n",
    "\t\t\t\t\t\treturn True\n",
    "\t\t\t\t\telse:  # Merge key and right node into left node, then recurse\n",
    "\t\t\t\t\t\tnode.merge_children(self.minkeys, index)\n",
    "\t\t\t\t\t\tif node is root and len(root.keys) == 0:\n",
    "\t\t\t\t\t\t\tassert len(root.children) == 1\n",
    "\t\t\t\t\t\t\tself.root = root = left  # Decrement tree height\n",
    "\t\t\t\t\t\tnode = left\n",
    "\t\t\t\t\t\tindex = self.minkeys  # Index known due to merging; no need to search\n",
    "\t\t\t\t\t\n",
    "\t\t\t\telse:  # Key might be found in some child\n",
    "\t\t\t\t\tchild = node.ensure_child_remove(self.minkeys, index)\n",
    "\t\t\t\t\tif node is root and len(root.keys) == 0:\n",
    "\t\t\t\t\t\tassert len(root.children) == 1\n",
    "\t\t\t\t\t\tself.root = root = root.children[0]  # Decrement tree height\n",
    "\t\t\t\t\tnode = child\n",
    "\t\t\t\t\tfound, index = node.search(obj)\n",
    "\t\n",
    "\t\n",
    "\t# Note: Not fail-fast on concurrent modification.\n",
    "\tdef __iter__(self):\n",
    "\t\t# Initialization\n",
    "\t\tstack = []\n",
    "\t\tdef push_left_path(node):\n",
    "\t\t\twhile True:\n",
    "\t\t\t\tstack.append((node, 0))\n",
    "\t\t\t\tif node.is_leaf():\n",
    "\t\t\t\t\tbreak\n",
    "\t\t\t\tnode = node.children[0]\n",
    "\t\tpush_left_path(self.root)\n",
    "\t\t\n",
    "\t\t# Generate elements\n",
    "\t\twhile len(stack) > 0:\n",
    "\t\t\tnode, index = stack.pop()\n",
    "\t\t\tif node.is_leaf():\n",
    "\t\t\t\tassert index == 0\n",
    "\t\t\t\tfor obj in node.keys:\n",
    "\t\t\t\t\tyield obj\n",
    "\t\t\telse:\n",
    "\t\t\t\tyield node.keys[index]\n",
    "\t\t\t\tindex += 1\n",
    "\t\t\t\tif index < len(node.keys):\n",
    "\t\t\t\t\tstack.append((node, index))\n",
    "\t\t\t\tpush_left_path(node.children[index])\n",
    "\t\n",
    "\t\n",
    "\t# For unit tests\n",
    "\tdef check_structure(self):\n",
    "\t\t# Check size and root node properties\n",
    "\t\tsize = self.size\n",
    "\t\troot = self.root\n",
    "\t\tif not isinstance(root, BTreeSet.Node) or size < 0 or (size > self.maxkeys and root.is_leaf()) \\\n",
    "\t\t\t\tor (size <= self.minkeys * 2 and (not root.is_leaf() or len(root.keys) != size)):\n",
    "\t\t\traise AssertionError(\"Invalid size or root type\")\n",
    "\t\t\n",
    "\t\t# Calculate height by descending into one branch\n",
    "\t\theight = 0\n",
    "\t\tnode = root\n",
    "\t\twhile not node.is_leaf():\n",
    "\t\t\theight += 1\n",
    "\t\t\tnode = node.children[0]\n",
    "\t\t\n",
    "\t\t# Check all nodes and total size\n",
    "\t\tif root.check_structure(self.minkeys, self.maxkeys, True, height, None, None) != size:\n",
    "\t\t\traise AssertionError(\"Size mismatch\")\n",
    "\t\n",
    "\t# My own access time method (Franz Nowak, 29/11/2018)\n",
    "\tdef count_reads_to(self, obj):\n",
    "\t\tcount=0\n",
    "\t\t# Walk down the tree\n",
    "\t\tnode = self.root\n",
    "\t\twhile True:\n",
    "\t\t\tfound, index = node.search(obj)\n",
    "\t\t\tcount+=index\n",
    "\t\t\tif found:\n",
    "\t\t\t\treturn count\n",
    "\t\t\telif node.is_leaf():\n",
    "\t\t\t\treturn False\n",
    "\t\t\telse:  # Internal node\n",
    "\t\t\t\tnode = node.children[index]\n",
    "\t\n",
    "\t# ---- Helper class ----\n",
    "\t\n",
    "\tclass Node(object):\n",
    "\t\t\n",
    "\t\t# -- Constructor --\n",
    "\t\t\n",
    "\t\t# Note: Once created, a node's structure never changes between a leaf and internal node.\n",
    "\t\tdef __init__(self, maxkeys, leaf):\n",
    "\t\t\tassert maxkeys >= 3 and maxkeys % 2 == 1\n",
    "\t\t\tself.keys = []  # Length is in [0, maxkeys] for root node, [minkeys, maxkeys] for all other nodes\n",
    "\t\t\tself.children = None if leaf else []  # If internal node, then length always equals len(keys)+1\n",
    "\t\t\n",
    "\t\t\n",
    "\t\t# -- Methods for getting info --\n",
    "\t\t\n",
    "\t\tdef is_leaf(self):\n",
    "\t\t\treturn self.children is None\n",
    "\t\t\n",
    "\t\t\n",
    "\t\t# Searches this node's keys list and returns (True, i) if obj equals keys[i],\n",
    "\t\t# otherwise returns (False, i) if children[i] should be explored. For simplicity,\n",
    "\t\t# the implementation uses linear search. It's possible to replace it with binary search for speed.\n",
    "\t\tdef search(self, obj):\n",
    "\t\t\tkeys = self.keys\n",
    "\t\t\ti = 0\n",
    "\t\t\twhile i < len(keys):\n",
    "\t\t\t\tif obj == keys[i]:\n",
    "\t\t\t\t\tassert 0 <= i < len(keys)\n",
    "\t\t\t\t\treturn (True, i)  # Key found\n",
    "\t\t\t\telif obj > keys[i]:\n",
    "\t\t\t\t\ti += 1\n",
    "\t\t\t\telse:\n",
    "\t\t\t\t\tbreak\n",
    "\t\t\tassert 0 <= i <= len(keys)\n",
    "\t\t\treturn (False, i)  # Not found, caller should recurse on child\n",
    "\t\t\n",
    "\t\t\n",
    "\t\t# -- Methods for insertion --\n",
    "\t\t\n",
    "\t\t# For the child node at the given index, this moves the right half of keys and children to a new node,\n",
    "\t\t# and adds the middle key and new child to this node. The left half of child's data is not moved.\n",
    "\t\tdef split_child(self, minkeys, maxkeys, index):\n",
    "\t\t\tassert not self.is_leaf() and 0 <= index <= len(self.keys) < maxkeys\n",
    "\t\t\tleft = self.children[index]\n",
    "\t\t\tassert len(left.keys) == maxkeys\n",
    "\t\t\tright = BTreeSet.Node(maxkeys, left.is_leaf())\n",
    "\t\t\tself.children.insert(index + 1, right)\n",
    "\t\t\t\n",
    "\t\t\t# Handle children\n",
    "\t\t\tif not left.is_leaf():\n",
    "\t\t\t\tright.children.extend(left.children[minkeys + 1 : ])\n",
    "\t\t\t\tdel left.children[minkeys + 1 : ]\n",
    "\t\t\t\n",
    "\t\t\t# Handle keys\n",
    "\t\t\tself.keys.insert(index, left.keys[minkeys])\n",
    "\t\t\tright.keys.extend(left.keys[minkeys + 1 : ])\n",
    "\t\t\tdel left.keys[minkeys : ]\n",
    "\t\t\n",
    "\t\t\n",
    "\t\t# -- Methods for removal --\n",
    "\t\t\n",
    "\t\t# Performs modifications to ensure that this node's child at the given index has at least\n",
    "\t\t# minKeys+1 keys in preparation for a single removal. The child may gain a key and subchild\n",
    "\t\t# from its sibling, or it may be merged with a sibling, or nothing needs to be done.\n",
    "\t\t# A reference to the appropriate child is returned, which is helpful if the old child no longer exists.\n",
    "\t\tdef ensure_child_remove(self, minkeys, index):\n",
    "\t\t\t# Preliminaries\n",
    "\t\t\tassert not self.is_leaf() and 0 <= index < len(self.children)\n",
    "\t\t\tchild = self.children[index]\n",
    "\t\t\tif len(child.keys) > minkeys:  # Already satisfies the condition\n",
    "\t\t\t\treturn child\n",
    "\t\t\tassert len(child.keys) == minkeys\n",
    "\t\t\t\n",
    "\t\t\t# Get siblings\n",
    "\t\t\tleft  = self.children[index - 1] if index >= 1 else None\n",
    "\t\t\tright = self.children[index + 1] if index < len(self.keys) else None\n",
    "\t\t\tinternal = not child.is_leaf()\n",
    "\t\t\tassert left is not None or right is not None  # At least one sibling exists because degree >= 2\n",
    "\t\t\tassert left  is None or left .is_leaf() != internal  # Sibling must be same type (internal/leaf) as child\n",
    "\t\t\tassert right is None or right.is_leaf() != internal  # Sibling must be same type (internal/leaf) as child\n",
    "\t\t\t\n",
    "\t\t\tif left is not None and len(left.keys) > minkeys:  # Steal rightmost item from left sibling\n",
    "\t\t\t\tif internal:\n",
    "\t\t\t\t\tchild.children.insert(0, left.children.pop(-1))\n",
    "\t\t\t\tchild.keys.insert(0, self.keys[index - 1])\n",
    "\t\t\t\tself.keys[index - 1] = left.remove_key(len(left.keys) - 1)\n",
    "\t\t\t\treturn child\n",
    "\t\t\telif right is not None and len(right.keys) > minkeys:  # Steal leftmost item from right sibling\n",
    "\t\t\t\tif internal:\n",
    "\t\t\t\t\tchild.children.append(right.children.pop(0))\n",
    "\t\t\t\tchild.keys.append(self.keys[index])\n",
    "\t\t\t\tself.keys[index] = right.remove_key(0)\n",
    "\t\t\t\treturn child\n",
    "\t\t\telif left is not None:  # Merge child into left sibling\n",
    "\t\t\t\tself.merge_children(minkeys, index - 1)\n",
    "\t\t\t\treturn left  # This is the only case where the return value is different\n",
    "\t\t\telif right is not None:  # Merge right sibling into child\n",
    "\t\t\t\tself.merge_children(minkeys, index)\n",
    "\t\t\t\treturn child\n",
    "\t\t\telse:\n",
    "\t\t\t\traise AssertionError(\"Impossible condition\")\n",
    "\t\t\n",
    "\t\t\n",
    "\t\t# Merges the child node at index+1 into the child node at index,\n",
    "\t\t# assuming the current node is not empty and both children have minkeys.\n",
    "\t\tdef merge_children(self, minkeys, index):\n",
    "\t\t\tassert not self.is_leaf() and 0 <= index < len(self.keys)\n",
    "\t\t\tleft, right = self.children[index : index + 2]\n",
    "\t\t\tassert len(left.keys) == len(right.keys) == minkeys\n",
    "\t\t\tif not left.is_leaf():\n",
    "\t\t\t\tleft.children.extend(right.children)\n",
    "\t\t\tdel self.children[index + 1]\n",
    "\t\t\tleft.keys.append(self.remove_key(index))\n",
    "\t\t\tleft.keys.extend(right.keys)\n",
    "\t\t\n",
    "\t\t\n",
    "\t\t# Removes and returns the minimum key among the whole subtree rooted at this node.\n",
    "\t\t# Requires this node to be preprocessed to have at least minkeys+1 keys.\n",
    "\t\tdef remove_min(self, minkeys):\n",
    "\t\t\tnode = self\n",
    "\t\t\twhile True:\n",
    "\t\t\t\tassert len(node.keys) > minkeys\n",
    "\t\t\t\tif node.is_leaf():\n",
    "\t\t\t\t\treturn node.remove_key(0)\n",
    "\t\t\t\telse:\n",
    "\t\t\t\t\tnode = node.ensure_child_remove(minkeys, 0)\n",
    "\t\t\n",
    "\t\t\n",
    "\t\t# Removes and returns the maximum key among the whole subtree rooted at this node.\n",
    "\t\t# Requires this node to be preprocessed to have at least minkeys+1 keys.\n",
    "\t\tdef remove_max(self, minkeys):\n",
    "\t\t\tnode = self\n",
    "\t\t\twhile True:\n",
    "\t\t\t\tassert len(node.keys) > minkeys\n",
    "\t\t\t\tif node.is_leaf():\n",
    "\t\t\t\t\treturn node.remove_key(len(node.keys) - 1)\n",
    "\t\t\t\telse:\n",
    "\t\t\t\t\tnode = node.ensure_child_remove(minkeys, len(node.children) - 1)\n",
    "\t\t\n",
    "\t\t\n",
    "\t\t# Removes and returns this node's key at the given index.\n",
    "\t\tdef remove_key(self, index):\n",
    "\t\t\tassert 0 <= index < len(self.keys)\n",
    "\t\t\treturn self.keys.pop(index)\n",
    "\t\t\n",
    "\t\t\n",
    "\t\t# -- Miscellaneous methods --\n",
    "\t\t\n",
    "\t\t# Checks the structure recursively and returns the total number\n",
    "\t\t# of keys in the subtree rooted at this node. For unit tests.\n",
    "\t\tdef check_structure(self, minkeys, maxkeys, isroot, leafdepth, min, max):\n",
    "\t\t\t# Check basic fields\n",
    "\t\t\tkeys = self.keys\n",
    "\t\t\tnumkeys = len(keys)\n",
    "\t\t\tif self.is_leaf() != (leafdepth == 0):\n",
    "\t\t\t\traise AssertionError(\"Incorrect leaf/internal node type\")\n",
    "\t\t\tif numkeys > maxkeys:\n",
    "\t\t\t\traise AssertionError(\"Invalid number of keys\")\n",
    "\t\t\tif isroot and not self.is_leaf() and numkeys == 0:\n",
    "\t\t\t\traise AssertionError(\"Invalid number of keys\")\n",
    "\t\t\tif not isroot and numkeys < minkeys:\n",
    "\t\t\t\traise AssertionError(\"Invalid number of keys\")\n",
    "\t\t\t\n",
    "\t\t\t# Check keys for strict increasing order\n",
    "\t\t\ttempkeys = [min] + keys + [max]\n",
    "\t\t\tfor i in range(len(tempkeys) - 1):\n",
    "\t\t\t\tx = tempkeys[i]\n",
    "\t\t\t\ty = tempkeys[i + 1]\n",
    "\t\t\t\tif x is not None and y is not None and y <= x:\n",
    "\t\t\t\t\traise AssertionError(\"Invalid key ordering\")\n",
    "\t\t\t\n",
    "\t\t\t# Check children recursively and count keys in this subtree\n",
    "\t\t\tcount = numkeys\n",
    "\t\t\tif not self.is_leaf():\n",
    "\t\t\t\tif len(self.children) != numkeys + 1:\n",
    "\t\t\t\t\traise AssertionError(\"Invalid number of children\")\n",
    "\t\t\t\tfor (i, child) in enumerate(self.children):\n",
    "\t\t\t\t\t# Check children pointers and recurse\n",
    "\t\t\t\t\tif not isinstance(child, BTreeSet.Node):\n",
    "\t\t\t\t\t\traise TypeError()\n",
    "\t\t\t\t\tcount += child.check_structure(minkeys, maxkeys, False,\n",
    "\t\t\t\t\t\tleafdepth - 1, tempkeys[i], tempkeys[i + 1])\n",
    "\t\t\treturn count"
   ]
  },
  {
   "cell_type": "markdown",
   "metadata": {},
   "source": [
    "And this is the code he uses to test his class:"
   ]
  },
  {
   "cell_type": "code",
   "execution_count": 10,
   "metadata": {},
   "outputs": [],
   "source": [
    "# \n",
    "# B-tree set test (Python)\n",
    "# \n",
    "# Copyright (c) 2018 Project Nayuki. (MIT License)\n",
    "# https://www.nayuki.io/page/btree-set\n",
    "# \n",
    "# Permission is hereby granted, free of charge, to any person obtaining a copy of\n",
    "# this software and associated documentation files (the \"Software\"), to deal in\n",
    "# the Software without restriction, including without limitation the rights to\n",
    "# use, copy, modify, merge, publish, distribute, sublicense, and/or sell copies of\n",
    "# the Software, and to permit persons to whom the Software is furnished to do so,\n",
    "# subject to the following conditions:\n",
    "# - The above copyright notice and this permission notice shall be included in\n",
    "#   all copies or substantial portions of the Software.\n",
    "# - The Software is provided \"as is\", without warranty of any kind, express or\n",
    "#   implied, including but not limited to the warranties of merchantability,\n",
    "#   fitness for a particular purpose and noninfringement. In no event shall the\n",
    "#   authors or copyright holders be liable for any claim, damages or other\n",
    "#   liability, whether in an action of contract, tort or otherwise, arising from,\n",
    "#   out of or in connection with the Software or the use or other dealings in the\n",
    "#   Software.\n",
    "# \n",
    "\n",
    "import random, unittest\n",
    "\n",
    "\n",
    "class BTreeSetTest(unittest.TestCase):\n",
    "\t\n",
    "\tdef test_small_randomly(self):\n",
    "\t\tTRIALS = 30\n",
    "\t\tOPERATIONS = 100\n",
    "\t\tVALRANGE = 1000\n",
    "\t\tfor _ in range(TRIALS):\n",
    "\t\t\tset0 = set()\n",
    "\t\t\tset1 = btreeset.BTreeSet(random.randrange(5) + 2)\n",
    "\t\t\tfor _ in range(OPERATIONS):\n",
    "\t\t\t\t# Add/remove a random value\n",
    "\t\t\t\tval = random.randrange(VALRANGE)\n",
    "\t\t\t\tif random.random() < 0.001:\n",
    "\t\t\t\t\tset0.clear()\n",
    "\t\t\t\t\tset1.clear()\n",
    "\t\t\t\telif random.random() < 0.5:\n",
    "\t\t\t\t\tset0.add(val)\n",
    "\t\t\t\t\tset1.add(val)\n",
    "\t\t\t\telse:\n",
    "\t\t\t\t\tset0.discard(val)\n",
    "\t\t\t\t\tset1.discard(val)\n",
    "\t\t\t\tset1.check_structure()\n",
    "\t\t\t\t\n",
    "\t\t\t\t# Check size and check element membership over entire range\n",
    "\t\t\t\tself.assertEqual(len(set0), len(set1))\n",
    "\t\t\t\tfor k in range(-4, VALRANGE + 4):\n",
    "\t\t\t\t\tself.assertEqual(k in set0, k in set1)\n",
    "\t\n",
    "\t\n",
    "\tdef test_insert_randomly(self):\n",
    "\t\tTRIALS = 30\n",
    "\t\tOPERATIONS = 3000\n",
    "\t\tVALRANGE = 100000\n",
    "\t\tCHECKS = 10\n",
    "\t\tfor _ in range(TRIALS):\n",
    "\t\t\tset0 = set()\n",
    "\t\t\tset1 = btreeset.BTreeSet(2)\n",
    "\t\t\tfor _ in range(OPERATIONS):\n",
    "\t\t\t\t# Add a random value\n",
    "\t\t\t\tval = random.randrange(VALRANGE)\n",
    "\t\t\t\tset0.add(val)\n",
    "\t\t\t\tset1.add(val)\n",
    "\t\t\t\tif random.random() < 0.003:\n",
    "\t\t\t\t\tset1.check_structure()\n",
    "\t\t\t\t\n",
    "\t\t\t\t# Check size and random element membership\n",
    "\t\t\t\tself.assertEqual(len(set0), len(set1))\n",
    "\t\t\t\tfor _ in range(CHECKS):\n",
    "\t\t\t\t\tval = random.randrange(VALRANGE)\n",
    "\t\t\t\t\tself.assertEqual(val in set0, val in set1)\n",
    "\t\n",
    "\t\n",
    "\tdef test_large_randomly(self):\n",
    "\t\tTRIALS = 10\n",
    "\t\tOPERATIONS = 10000\n",
    "\t\tVALRANGE = 100000\n",
    "\t\tCHECKS = 10\n",
    "\t\tfor _ in range(TRIALS):\n",
    "\t\t\tset0 = set()\n",
    "\t\t\tset1 = btreeset.BTreeSet(random.randrange(5) + 2)\n",
    "\t\t\tfor _ in range(OPERATIONS):\n",
    "\t\t\t\t# Add/remove a random value\n",
    "\t\t\t\tval = random.randrange(VALRANGE)\n",
    "\t\t\t\tif random.random() < 0.5:\n",
    "\t\t\t\t\tset0.add(val)\n",
    "\t\t\t\t\tset1.add(val)\n",
    "\t\t\t\telse:\n",
    "\t\t\t\t\tset0.discard(val)\n",
    "\t\t\t\t\tset1.discard(val)\n",
    "\t\t\t\tif random.random() < 0.001:\n",
    "\t\t\t\t\tset1.check_structure()\n",
    "\t\t\t\t\n",
    "\t\t\t\t# Check size and random element membership\n",
    "\t\t\t\tself.assertEqual(len(set0), len(set1))\n",
    "\t\t\t\tfor _ in range(CHECKS):\n",
    "\t\t\t\t\tval = random.randrange(VALRANGE)\n",
    "\t\t\t\t\tself.assertEqual(val in set0, val in set1)\n",
    "\t\n",
    "\t\n",
    "\tdef test_remove_all_randomly(self):\n",
    "\t\tTRIALS = 10\n",
    "\t\tLIMIT = 10000\n",
    "\t\tVALRANGE = 100000\n",
    "\t\tCHECKS = 10\n",
    "\t\tfor _ in range(TRIALS):\n",
    "\t\t\t# Create sets and add all values\n",
    "\t\t\tset0 = set(random.randrange(VALRANGE) for _ in range(LIMIT))\n",
    "\t\t\tset1 = btreeset.BTreeSet(random.randrange(5) + 2, set0)\n",
    "\t\t\tset1.check_structure()\n",
    "\t\t\t\n",
    "\t\t\t# Remove each value in random order\n",
    "\t\t\tfor val in random.sample(set0, len(set0)):\n",
    "\t\t\t\tset0.discard(val)\n",
    "\t\t\t\tset1.discard(val)\n",
    "\t\t\t\tif random.random() < 1.0 / min(max(len(set1), 1), 1000):\n",
    "\t\t\t\t\tset1.check_structure()\n",
    "\t\t\t\tself.assertEqual(len(set0), len(set1))\n",
    "\t\t\t\tfor _ in range(CHECKS):\n",
    "\t\t\t\t\tval = random.randrange(VALRANGE)\n",
    "\t\t\t\t\tself.assertEqual(val in set0, val in set1)\n",
    "\t\n",
    "\t\n",
    "\tdef test_iterator_randomly(self):\n",
    "\t\tTRIALS = 1000\n",
    "\t\tOPERATIONS = 1000\n",
    "\t\tVALRANGE = 10000\n",
    "\t\tfor _ in range(TRIALS):\n",
    "\t\t\tset0 = set()\n",
    "\t\t\tset1 = btreeset.BTreeSet(random.randrange(5) + 2)\n",
    "\t\t\t\n",
    "\t\t\tnuminsert = random.randrange(OPERATIONS)\n",
    "\t\t\tfor _ in range(numinsert):\n",
    "\t\t\t\tval = random.randrange(VALRANGE)\n",
    "\t\t\t\tset0.add(val)\n",
    "\t\t\t\tset1.add(val)\n",
    "\t\t\tself.assertEqual(set0, set(set1))\n",
    "\t\t\t\n",
    "\t\t\tnumremove = random.randrange(len(set0) + 1)\n",
    "\t\t\tfor val in random.sample(set0, numremove):\n",
    "\t\t\t\tset0.remove(val)\n",
    "\t\t\t\tset1.remove(val)\n",
    "\t\t\tself.assertEqual(set0, set(set1))"
   ]
  }
 ],
 "metadata": {
  "kernelspec": {
   "display_name": "Python 3",
   "language": "python",
   "name": "python3"
  },
  "language_info": {
   "codemirror_mode": {
    "name": "ipython",
    "version": 3
   },
   "file_extension": ".py",
   "mimetype": "text/x-python",
   "name": "python",
   "nbconvert_exporter": "python",
   "pygments_lexer": "ipython3",
   "version": "3.7.1"
  }
 },
 "nbformat": 4,
 "nbformat_minor": 2
}
